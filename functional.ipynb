{
 "cells": [
  {
   "cell_type": "code",
   "execution_count": 1,
   "id": "51fd95f0",
   "metadata": {},
   "outputs": [],
   "source": [
    "class do_math:\n",
    "    def __init__(self, val1, val2):\n",
    "        self.val1 = val1\n",
    "        self.val2 = val2\n",
    "    \n",
    "    def add(self):\n",
    "        return self.val1 + self.val2\n",
    "    \n",
    "    \n",
    "    def multiply(self):\n",
    "        return self.val1 * self.val2\n",
    "    \n",
    "    def double_input(self):\n",
    "        self.val1 *=2\n",
    "        self.val2 *=2\n",
    "    \n",
    "    # subtraction function\n",
    "    def subtraction(self):\n",
    "        return self.val1 - self.val2\n",
    "    \n",
    "    # division fuction\n",
    "    def division(self):\n",
    "        return self.val1 / self.val2"
   ]
  },
  {
   "cell_type": "code",
   "execution_count": 2,
   "id": "18033624",
   "metadata": {},
   "outputs": [],
   "source": [
    "math_instance = do_math(3,4)"
   ]
  },
  {
   "cell_type": "code",
   "execution_count": 3,
   "id": "17f04443",
   "metadata": {},
   "outputs": [
    {
     "name": "stdout",
     "output_type": "stream",
     "text": [
      "7\n"
     ]
    }
   ],
   "source": [
    "print(math_instance.add())"
   ]
  },
  {
   "cell_type": "code",
   "execution_count": 4,
   "id": "8b63132d",
   "metadata": {},
   "outputs": [
    {
     "name": "stdout",
     "output_type": "stream",
     "text": [
      "12\n"
     ]
    }
   ],
   "source": [
    "print(math_instance.multiply())"
   ]
  },
  {
   "cell_type": "code",
   "execution_count": 5,
   "id": "84142b5b",
   "metadata": {},
   "outputs": [
    {
     "name": "stdout",
     "output_type": "stream",
     "text": [
      "-1\n"
     ]
    }
   ],
   "source": [
    "# subtraction\n",
    "print(math_instance.subtraction())"
   ]
  },
  {
   "cell_type": "code",
   "execution_count": 6,
   "id": "dd1f01d0",
   "metadata": {},
   "outputs": [
    {
     "name": "stdout",
     "output_type": "stream",
     "text": [
      "0.75\n"
     ]
    }
   ],
   "source": [
    "# division\n",
    "print(math_instance.division())"
   ]
  },
  {
   "cell_type": "code",
   "execution_count": null,
   "id": "8e0b5c4b",
   "metadata": {},
   "outputs": [],
   "source": []
  }
 ],
 "metadata": {
  "kernelspec": {
   "display_name": "Python 3 (ipykernel)",
   "language": "python",
   "name": "python3"
  },
  "language_info": {
   "codemirror_mode": {
    "name": "ipython",
    "version": 3
   },
   "file_extension": ".py",
   "mimetype": "text/x-python",
   "name": "python",
   "nbconvert_exporter": "python",
   "pygments_lexer": "ipython3",
   "version": "3.9.13"
  }
 },
 "nbformat": 4,
 "nbformat_minor": 5
}
